{
 "cells": [
  {
   "cell_type": "code",
   "execution_count": 1,
   "id": "6780cc94-7000-4732-b27c-5f342dd9fded",
   "metadata": {},
   "outputs": [
    {
     "data": {
      "text/plain": [
       "'1.22.3'"
      ]
     },
     "execution_count": 1,
     "metadata": {},
     "output_type": "execute_result"
    }
   ],
   "source": [
    "import numpy as np\n",
    "np.__version__"
   ]
  },
  {
   "cell_type": "code",
   "execution_count": 2,
   "id": "5c0065d2-ff6c-4a02-b305-d1234871f922",
   "metadata": {},
   "outputs": [
    {
     "data": {
      "text/plain": [
       "array(['1', '2', '1'], dtype='<U11')"
      ]
     },
     "execution_count": 2,
     "metadata": {},
     "output_type": "execute_result"
    }
   ],
   "source": [
    "np.array([1,2,\"1\"])"
   ]
  },
  {
   "cell_type": "code",
   "execution_count": 3,
   "id": "44ed001e-a278-4590-9804-052ca45d31cc",
   "metadata": {},
   "outputs": [],
   "source": [
    "x = np.array([1,2,\"1\"])"
   ]
  },
  {
   "cell_type": "code",
   "execution_count": 4,
   "id": "9e03f633-484d-4663-9d75-6fc68efd772f",
   "metadata": {},
   "outputs": [
    {
     "data": {
      "text/plain": [
       "dtype('<U11')"
      ]
     },
     "execution_count": 4,
     "metadata": {},
     "output_type": "execute_result"
    }
   ],
   "source": [
    "x.dtype"
   ]
  },
  {
   "cell_type": "code",
   "execution_count": 5,
   "id": "3b311e0b-2b82-4d0a-a810-cc3acfcde650",
   "metadata": {},
   "outputs": [
    {
     "data": {
      "text/plain": [
       "numpy.ndarray"
      ]
     },
     "execution_count": 5,
     "metadata": {},
     "output_type": "execute_result"
    }
   ],
   "source": [
    "type(x)"
   ]
  },
  {
   "cell_type": "code",
   "execution_count": 6,
   "id": "bca914e3-a274-462b-ad8e-48f610072eb2",
   "metadata": {},
   "outputs": [],
   "source": [
    "class_list = [1,2,3,4,5]"
   ]
  },
  {
   "cell_type": "code",
   "execution_count": 7,
   "id": "44874d95-40ba-4f9c-8d55-d3c3560705ea",
   "metadata": {},
   "outputs": [
    {
     "data": {
      "text/plain": [
       "list"
      ]
     },
     "execution_count": 7,
     "metadata": {},
     "output_type": "execute_result"
    }
   ],
   "source": [
    "type(class_list)"
   ]
  },
  {
   "cell_type": "code",
   "execution_count": 8,
   "id": "372e3257-da97-4e51-bbaf-f7f2a3a73ed4",
   "metadata": {},
   "outputs": [
    {
     "data": {
      "text/plain": [
       "numpy.ndarray"
      ]
     },
     "execution_count": 8,
     "metadata": {},
     "output_type": "execute_result"
    }
   ],
   "source": [
    "numpy_array = np.array(class_list)\n",
    "type(numpy_array)"
   ]
  },
  {
   "cell_type": "code",
   "execution_count": 9,
   "id": "59230a79-e168-428e-8ab6-fff2d7147f0f",
   "metadata": {},
   "outputs": [
    {
     "data": {
      "text/plain": [
       "(5,)"
      ]
     },
     "execution_count": 9,
     "metadata": {},
     "output_type": "execute_result"
    }
   ],
   "source": [
    "numpy_array.shape"
   ]
  },
  {
   "cell_type": "code",
   "execution_count": 10,
   "id": "f82fd6e7-074d-46ea-97c3-74cceeeceee2",
   "metadata": {},
   "outputs": [
    {
     "data": {
      "text/plain": [
       "3.5"
      ]
     },
     "execution_count": 10,
     "metadata": {},
     "output_type": "execute_result"
    }
   ],
   "source": [
    "np.array([2,5]).mean()"
   ]
  },
  {
   "cell_type": "code",
   "execution_count": 11,
   "id": "3159f97c-20d1-4db2-a4f0-d9b850e753b8",
   "metadata": {},
   "outputs": [
    {
     "data": {
      "text/plain": [
       "2.0"
      ]
     },
     "execution_count": 11,
     "metadata": {},
     "output_type": "execute_result"
    }
   ],
   "source": [
    "np.array([2,6]).std()"
   ]
  },
  {
   "cell_type": "code",
   "execution_count": 12,
   "id": "44f26ad8-792c-465c-b5c1-1fcb1b90440a",
   "metadata": {},
   "outputs": [
    {
     "data": {
      "text/plain": [
       "(2, 3)"
      ]
     },
     "execution_count": 12,
     "metadata": {},
     "output_type": "execute_result"
    }
   ],
   "source": [
    "numpy_matrix = np.array([[1,2,3], [5,7,11]])\n",
    "numpy_matrix.shape"
   ]
  },
  {
   "cell_type": "code",
   "execution_count": 13,
   "id": "ed402732-a30c-4257-8611-df52bbe0f07f",
   "metadata": {},
   "outputs": [],
   "source": [
    "matrix1 = np.array([\n",
    "\t[1,2,3],\n",
    "\t[4,5,6],\n",
    "\t[7,8,9]\n",
    "])"
   ]
  },
  {
   "cell_type": "code",
   "execution_count": 14,
   "id": "cf210d3d-0afc-46c6-b087-9aa500b88f68",
   "metadata": {},
   "outputs": [
    {
     "data": {
      "text/plain": [
       "array([1, 2, 3])"
      ]
     },
     "execution_count": 14,
     "metadata": {},
     "output_type": "execute_result"
    }
   ],
   "source": [
    "matrix1[0,:]"
   ]
  },
  {
   "cell_type": "code",
   "execution_count": 15,
   "id": "74654f60-58d0-4561-973f-8d3700a67a02",
   "metadata": {},
   "outputs": [
    {
     "data": {
      "text/plain": [
       "array([3, 6, 9])"
      ]
     },
     "execution_count": 15,
     "metadata": {},
     "output_type": "execute_result"
    }
   ],
   "source": [
    "matrix1[:,2]"
   ]
  },
  {
   "cell_type": "code",
   "execution_count": 16,
   "id": "5c3c3fd4-6ab6-4a10-befb-64cba6ba9fa7",
   "metadata": {},
   "outputs": [],
   "source": [
    "matrix2 = np.array([\n",
    "\t[1,2,3],\n",
    "\t[0,8,10],\n",
    "\t[1,10,12]\n",
    "])"
   ]
  },
  {
   "cell_type": "code",
   "execution_count": 17,
   "id": "63d59a01-1589-4ba2-a96a-3137cb933ad2",
   "metadata": {},
   "outputs": [
    {
     "data": {
      "text/plain": [
       "47"
      ]
     },
     "execution_count": 17,
     "metadata": {},
     "output_type": "execute_result"
    }
   ],
   "source": [
    "matrix2.sum()"
   ]
  },
  {
   "cell_type": "code",
   "execution_count": 18,
   "id": "a5cb185c-d6d6-496a-85a1-85df22450458",
   "metadata": {},
   "outputs": [
    {
     "data": {
      "text/plain": [
       "array([ 2, 20, 25])"
      ]
     },
     "execution_count": 18,
     "metadata": {},
     "output_type": "execute_result"
    }
   ],
   "source": [
    "matrix2.sum(axis=0)"
   ]
  },
  {
   "cell_type": "code",
   "execution_count": 19,
   "id": "50cf3513-d3bb-45db-91ec-6352600b6490",
   "metadata": {},
   "outputs": [
    {
     "data": {
      "text/plain": [
       "array([ 6, 18, 23])"
      ]
     },
     "execution_count": 19,
     "metadata": {},
     "output_type": "execute_result"
    }
   ],
   "source": [
    "matrix2.sum(axis=1)"
   ]
  },
  {
   "cell_type": "code",
   "execution_count": 20,
   "id": "e1f3c79c-4695-47e9-9961-e44964b3c02a",
   "metadata": {},
   "outputs": [
    {
     "data": {
      "text/plain": [
       "array([ 9, 11])"
      ]
     },
     "execution_count": 20,
     "metadata": {},
     "output_type": "execute_result"
    }
   ],
   "source": [
    "np.array([1,2]) + np.array([8,9])"
   ]
  },
  {
   "cell_type": "code",
   "execution_count": 21,
   "id": "02748b26-dd2a-46f1-8d64-d0a1c619afee",
   "metadata": {},
   "outputs": [
    {
     "data": {
      "text/plain": [
       "array([[ 9, 11],\n",
       "       [13, 15]])"
      ]
     },
     "execution_count": 21,
     "metadata": {},
     "output_type": "execute_result"
    }
   ],
   "source": [
    "np.array([\n",
    "\t[1,2],\n",
    "\t[3,4]\n",
    "]) + \\\n",
    "np.array([\n",
    "\t[8,9],\n",
    "\t[10,11]\n",
    "])"
   ]
  },
  {
   "cell_type": "code",
   "execution_count": 22,
   "id": "b62a01c2-3181-43fc-8074-00ba9bc2ef47",
   "metadata": {},
   "outputs": [],
   "source": [
    "wek1 = np.array([1,2,3,4,5,6,7,8,9,10])"
   ]
  },
  {
   "cell_type": "code",
   "execution_count": 24,
   "id": "57f1d7c9-9611-4749-8476-c515edfef0fa",
   "metadata": {},
   "outputs": [],
   "source": [
    "wek2 = np.repeat(1,10)"
   ]
  },
  {
   "cell_type": "code",
   "execution_count": 25,
   "id": "65a4a2e1-bea0-4510-a773-7ea03680867b",
   "metadata": {},
   "outputs": [
    {
     "data": {
      "text/plain": [
       "array([ 2,  3,  4,  5,  6,  7,  8,  9, 10, 11])"
      ]
     },
     "execution_count": 25,
     "metadata": {},
     "output_type": "execute_result"
    }
   ],
   "source": [
    "wek1 + wek2"
   ]
  },
  {
   "cell_type": "code",
   "execution_count": 26,
   "id": "cb96cb9b-a9c9-4f53-9e6a-1cfe98b8c13d",
   "metadata": {},
   "outputs": [
    {
     "data": {
      "text/plain": [
       "array([[ 1,  2,  3,  4,  5],\n",
       "       [ 6,  7,  8,  9, 10],\n",
       "       [11, 12, 13, 14, 15],\n",
       "       [16, 17, 18, 19, 20],\n",
       "       [21, 22, 23, 24, 25]])"
      ]
     },
     "execution_count": 26,
     "metadata": {},
     "output_type": "execute_result"
    }
   ],
   "source": [
    "macierz = np.array([\n",
    "    [1,2,3,4,5],\n",
    "    [6,7,8,9,10],\n",
    "    [11,12,13,14,15],\n",
    "    [16,17,18,19,20],\n",
    "    [21,22,23,24,25]\n",
    "])\n",
    "macierz"
   ]
  },
  {
   "cell_type": "code",
   "execution_count": 27,
   "id": "374a3fe7-d656-4b05-a46e-489c5928163b",
   "metadata": {},
   "outputs": [
    {
     "data": {
      "text/plain": [
       "(5, 5)"
      ]
     },
     "execution_count": 27,
     "metadata": {},
     "output_type": "execute_result"
    }
   ],
   "source": [
    "macierz.shape"
   ]
  },
  {
   "cell_type": "code",
   "execution_count": 28,
   "id": "73f2fdac-0b43-46a4-8648-6c261b24d8cd",
   "metadata": {},
   "outputs": [
    {
     "data": {
      "text/plain": [
       "325"
      ]
     },
     "execution_count": 28,
     "metadata": {},
     "output_type": "execute_result"
    }
   ],
   "source": [
    "macierz.sum()"
   ]
  },
  {
   "cell_type": "code",
   "execution_count": 29,
   "id": "6293e79d-e7e6-4c85-a529-4d41ca676595",
   "metadata": {},
   "outputs": [
    {
     "data": {
      "text/plain": [
       "3.0"
      ]
     },
     "execution_count": 29,
     "metadata": {},
     "output_type": "execute_result"
    }
   ],
   "source": [
    "macierz[0,:].mean()"
   ]
  },
  {
   "cell_type": "code",
   "execution_count": 30,
   "id": "a2f55a44-8e1c-4ea1-ace2-e1a0f2da16bf",
   "metadata": {},
   "outputs": [
    {
     "data": {
      "text/plain": [
       "8.0"
      ]
     },
     "execution_count": 30,
     "metadata": {},
     "output_type": "execute_result"
    }
   ],
   "source": [
    "macierz[1,:].mean()"
   ]
  },
  {
   "cell_type": "code",
   "execution_count": 31,
   "id": "a7aaa54c-d3a7-4662-847b-a3805073ce4f",
   "metadata": {},
   "outputs": [
    {
     "name": "stdout",
     "output_type": "stream",
     "text": [
      "3.0\n",
      "8.0\n",
      "13.0\n",
      "18.0\n",
      "23.0\n"
     ]
    }
   ],
   "source": [
    "for i in range(0,5):\n",
    "    print(macierz[i,:].mean())"
   ]
  },
  {
   "cell_type": "code",
   "execution_count": 32,
   "id": "76aebd79-f84d-4a02-a493-833ca78a35f0",
   "metadata": {},
   "outputs": [
    {
     "name": "stdout",
     "output_type": "stream",
     "text": [
      "11.0\n",
      "12.0\n",
      "13.0\n",
      "14.0\n",
      "15.0\n"
     ]
    }
   ],
   "source": [
    "for i in range(0,5):\n",
    "    print(macierz[:,i].mean())"
   ]
  },
  {
   "cell_type": "code",
   "execution_count": null,
   "id": "3103531d-bb04-4748-a5bc-b68f4876b386",
   "metadata": {},
   "outputs": [],
   "source": []
  }
 ],
 "metadata": {
  "kernelspec": {
   "display_name": "Python 3 (ipykernel)",
   "language": "python",
   "name": "python3"
  },
  "language_info": {
   "codemirror_mode": {
    "name": "ipython",
    "version": 3
   },
   "file_extension": ".py",
   "mimetype": "text/x-python",
   "name": "python",
   "nbconvert_exporter": "python",
   "pygments_lexer": "ipython3",
   "version": "3.10.2"
  }
 },
 "nbformat": 4,
 "nbformat_minor": 5
}
