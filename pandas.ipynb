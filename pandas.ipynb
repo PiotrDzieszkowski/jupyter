{
 "cells": [
  {
   "cell_type": "code",
   "execution_count": 2,
   "id": "f614a1a6-a6c7-46fe-8f59-014b37e07fb7",
   "metadata": {},
   "outputs": [
    {
     "data": {
      "text/plain": [
       "'1.4.2'"
      ]
     },
     "execution_count": 2,
     "metadata": {},
     "output_type": "execute_result"
    }
   ],
   "source": [
    "import pandas as pd\n",
    "pd.__version__"
   ]
  },
  {
   "cell_type": "code",
   "execution_count": 3,
   "id": "5dd5102e-ffc9-465b-8621-d08b0eb35e16",
   "metadata": {},
   "outputs": [],
   "source": [
    "salaries = [\n",
    "\t(\"Mark\", 1000),\n",
    "\t(\"John\", 1500),\n",
    "\t(\"Daniel\", 2300),\n",
    "\t(\"Greg\", 5000)\n",
    "]"
   ]
  },
  {
   "cell_type": "code",
   "execution_count": 4,
   "id": "8c29ade6-e332-4179-b1dc-9afe7e51211e",
   "metadata": {},
   "outputs": [],
   "source": [
    "\n",
    "names_series = pd.Series([\"Mark\",\"John\",\"Daniel\",\"Greg\"])"
   ]
  },
  {
   "cell_type": "code",
   "execution_count": 5,
   "id": "18487462-f0c0-4639-81a0-02f41d4c3d30",
   "metadata": {},
   "outputs": [
    {
     "data": {
      "text/plain": [
       "0      Mark\n",
       "1      John\n",
       "2    Daniel\n",
       "3      Greg\n",
       "dtype: object"
      ]
     },
     "execution_count": 5,
     "metadata": {},
     "output_type": "execute_result"
    }
   ],
   "source": [
    "names_series"
   ]
  },
  {
   "cell_type": "code",
   "execution_count": 6,
   "id": "5fa7eb85-b9b2-457b-875e-a94e339e6c29",
   "metadata": {},
   "outputs": [],
   "source": [
    "salary_series = pd.Series([1000,1500,2300,5000])"
   ]
  },
  {
   "cell_type": "code",
   "execution_count": 7,
   "id": "8daac1f2-b0b7-4517-bfc7-333a829084f5",
   "metadata": {},
   "outputs": [
    {
     "data": {
      "text/plain": [
       "0    1000\n",
       "1    1500\n",
       "2    2300\n",
       "3    5000\n",
       "dtype: int64"
      ]
     },
     "execution_count": 7,
     "metadata": {},
     "output_type": "execute_result"
    }
   ],
   "source": [
    "salary_series"
   ]
  },
  {
   "cell_type": "code",
   "execution_count": 8,
   "id": "c3c0e787-f782-4814-ab93-2eddd9f48375",
   "metadata": {},
   "outputs": [
    {
     "data": {
      "text/plain": [
       "count        4\n",
       "unique       4\n",
       "top       Mark\n",
       "freq         1\n",
       "dtype: object"
      ]
     },
     "execution_count": 8,
     "metadata": {},
     "output_type": "execute_result"
    }
   ],
   "source": [
    "names_series.describe()"
   ]
  },
  {
   "cell_type": "code",
   "execution_count": 9,
   "id": "dccc8d66-6626-4d98-adb8-9bf62193baac",
   "metadata": {},
   "outputs": [
    {
     "data": {
      "text/plain": [
       "count       4.000000\n",
       "mean     2450.000000\n",
       "std      1782.320585\n",
       "min      1000.000000\n",
       "25%      1375.000000\n",
       "50%      1900.000000\n",
       "75%      2975.000000\n",
       "max      5000.000000\n",
       "dtype: float64"
      ]
     },
     "execution_count": 9,
     "metadata": {},
     "output_type": "execute_result"
    }
   ],
   "source": [
    "salary_series.describe()"
   ]
  },
  {
   "cell_type": "code",
   "execution_count": 10,
   "id": "00e02e97-90c2-4080-adc3-632b48b17e78",
   "metadata": {},
   "outputs": [
    {
     "name": "stdout",
     "output_type": "stream",
     "text": [
      "1000\n",
      "1500\n",
      "2300\n",
      "5000\n"
     ]
    }
   ],
   "source": [
    "for serie in salary_series:\n",
    "    print(serie)"
   ]
  },
  {
   "cell_type": "code",
   "execution_count": 11,
   "id": "2fe97946-1243-4ef9-aed0-479e751005cf",
   "metadata": {},
   "outputs": [],
   "source": [
    "\n",
    "new_salary_series = salary_series+100"
   ]
  },
  {
   "cell_type": "code",
   "execution_count": 12,
   "id": "e47aa04f-266a-457d-997d-f5e2e31cf099",
   "metadata": {},
   "outputs": [
    {
     "name": "stdout",
     "output_type": "stream",
     "text": [
      "1100\n",
      "1600\n",
      "2400\n",
      "5100\n"
     ]
    }
   ],
   "source": [
    "for salary in new_salary_series:\n",
    "    print(salary)"
   ]
  },
  {
   "cell_type": "code",
   "execution_count": 13,
   "id": "d1efc36b-5edd-4bb3-a63d-85bb1edd9a45",
   "metadata": {},
   "outputs": [
    {
     "data": {
      "text/plain": [
       "RangeIndex(start=0, stop=4, step=1)"
      ]
     },
     "execution_count": 13,
     "metadata": {},
     "output_type": "execute_result"
    }
   ],
   "source": [
    "new_salary_series.index"
   ]
  },
  {
   "cell_type": "code",
   "execution_count": 14,
   "id": "7d57a3c7-adce-4aec-afbe-c78279b4cc21",
   "metadata": {},
   "outputs": [],
   "source": [
    "new_salary_series.index = names_series"
   ]
  },
  {
   "cell_type": "code",
   "execution_count": 15,
   "id": "0bf7e55b-877e-4e27-b81d-b0c081341d13",
   "metadata": {},
   "outputs": [
    {
     "data": {
      "text/plain": [
       "Mark      1100\n",
       "John      1600\n",
       "Daniel    2400\n",
       "Greg      5100\n",
       "dtype: int64"
      ]
     },
     "execution_count": 15,
     "metadata": {},
     "output_type": "execute_result"
    }
   ],
   "source": [
    "new_salary_series"
   ]
  },
  {
   "cell_type": "code",
   "execution_count": 16,
   "id": "06744ca7-b1b6-4985-a9a0-473a9793c536",
   "metadata": {},
   "outputs": [
    {
     "data": {
      "text/plain": [
       "1100"
      ]
     },
     "execution_count": 16,
     "metadata": {},
     "output_type": "execute_result"
    }
   ],
   "source": [
    "new_salary_series[\"Mark\"]"
   ]
  },
  {
   "cell_type": "code",
   "execution_count": 17,
   "id": "d7080a7c-7883-4967-81b1-a898df077772",
   "metadata": {},
   "outputs": [],
   "source": [
    "\n",
    "names = [\"Mark\", \"John\", \"Daniel\", \"Greg\"]\n",
    "salaries = [1000, 1500, 2300, 5000]\n",
    "salary_series_improved = pd.Series(salaries, index=names)"
   ]
  },
  {
   "cell_type": "code",
   "execution_count": 18,
   "id": "b21160d1-e5b9-483f-a499-871b15050ced",
   "metadata": {},
   "outputs": [
    {
     "data": {
      "text/plain": [
       "Mark      1000\n",
       "John      1500\n",
       "Daniel    2300\n",
       "Greg      5000\n",
       "dtype: int64"
      ]
     },
     "execution_count": 18,
     "metadata": {},
     "output_type": "execute_result"
    }
   ],
   "source": [
    "salary_series_improved"
   ]
  },
  {
   "cell_type": "code",
   "execution_count": 19,
   "id": "571f3472-af8b-4afb-85e0-5a7f1cc124dd",
   "metadata": {},
   "outputs": [],
   "source": [
    "salaries = [\n",
    "\t(\"Mark\", 1000, 23),\n",
    "\t(\"John\", 1500, 25),\n",
    "\t(\"Daniel\", 2300, 38),\n",
    "\t(\"Greg\", 5000, 42)\n",
    "]"
   ]
  },
  {
   "cell_type": "code",
   "execution_count": 20,
   "id": "dddd43d3-f5d4-4b69-b0dd-0195308121d6",
   "metadata": {},
   "outputs": [],
   "source": [
    "\n",
    "df = pd.DataFrame(salaries)"
   ]
  },
  {
   "cell_type": "code",
   "execution_count": 21,
   "id": "efaffc82-787d-4468-9b93-6a27aee3d3f9",
   "metadata": {},
   "outputs": [
    {
     "data": {
      "text/html": [
       "<div>\n",
       "<style scoped>\n",
       "    .dataframe tbody tr th:only-of-type {\n",
       "        vertical-align: middle;\n",
       "    }\n",
       "\n",
       "    .dataframe tbody tr th {\n",
       "        vertical-align: top;\n",
       "    }\n",
       "\n",
       "    .dataframe thead th {\n",
       "        text-align: right;\n",
       "    }\n",
       "</style>\n",
       "<table border=\"1\" class=\"dataframe\">\n",
       "  <thead>\n",
       "    <tr style=\"text-align: right;\">\n",
       "      <th></th>\n",
       "      <th>0</th>\n",
       "      <th>1</th>\n",
       "      <th>2</th>\n",
       "    </tr>\n",
       "  </thead>\n",
       "  <tbody>\n",
       "    <tr>\n",
       "      <th>0</th>\n",
       "      <td>Mark</td>\n",
       "      <td>1000</td>\n",
       "      <td>23</td>\n",
       "    </tr>\n",
       "    <tr>\n",
       "      <th>1</th>\n",
       "      <td>John</td>\n",
       "      <td>1500</td>\n",
       "      <td>25</td>\n",
       "    </tr>\n",
       "    <tr>\n",
       "      <th>2</th>\n",
       "      <td>Daniel</td>\n",
       "      <td>2300</td>\n",
       "      <td>38</td>\n",
       "    </tr>\n",
       "    <tr>\n",
       "      <th>3</th>\n",
       "      <td>Greg</td>\n",
       "      <td>5000</td>\n",
       "      <td>42</td>\n",
       "    </tr>\n",
       "  </tbody>\n",
       "</table>\n",
       "</div>"
      ],
      "text/plain": [
       "        0     1   2\n",
       "0    Mark  1000  23\n",
       "1    John  1500  25\n",
       "2  Daniel  2300  38\n",
       "3    Greg  5000  42"
      ]
     },
     "execution_count": 21,
     "metadata": {},
     "output_type": "execute_result"
    }
   ],
   "source": [
    "df"
   ]
  },
  {
   "cell_type": "code",
   "execution_count": 22,
   "id": "2c53070a-a15a-4e39-9515-02a553215c87",
   "metadata": {},
   "outputs": [
    {
     "data": {
      "text/plain": [
       "<bound method NDFrame.head of         0     1   2\n",
       "0    Mark  1000  23\n",
       "1    John  1500  25\n",
       "2  Daniel  2300  38\n",
       "3    Greg  5000  42>"
      ]
     },
     "execution_count": 22,
     "metadata": {},
     "output_type": "execute_result"
    }
   ],
   "source": [
    "df.head"
   ]
  },
  {
   "cell_type": "code",
   "execution_count": 23,
   "id": "2d7972be-4049-4b93-b6eb-ce1ab6ef119f",
   "metadata": {},
   "outputs": [
    {
     "data": {
      "text/html": [
       "<div>\n",
       "<style scoped>\n",
       "    .dataframe tbody tr th:only-of-type {\n",
       "        vertical-align: middle;\n",
       "    }\n",
       "\n",
       "    .dataframe tbody tr th {\n",
       "        vertical-align: top;\n",
       "    }\n",
       "\n",
       "    .dataframe thead th {\n",
       "        text-align: right;\n",
       "    }\n",
       "</style>\n",
       "<table border=\"1\" class=\"dataframe\">\n",
       "  <thead>\n",
       "    <tr style=\"text-align: right;\">\n",
       "      <th></th>\n",
       "      <th>0</th>\n",
       "      <th>1</th>\n",
       "      <th>2</th>\n",
       "    </tr>\n",
       "  </thead>\n",
       "  <tbody>\n",
       "    <tr>\n",
       "      <th>0</th>\n",
       "      <td>Mark</td>\n",
       "      <td>1000</td>\n",
       "      <td>23</td>\n",
       "    </tr>\n",
       "    <tr>\n",
       "      <th>1</th>\n",
       "      <td>John</td>\n",
       "      <td>1500</td>\n",
       "      <td>25</td>\n",
       "    </tr>\n",
       "    <tr>\n",
       "      <th>2</th>\n",
       "      <td>Daniel</td>\n",
       "      <td>2300</td>\n",
       "      <td>38</td>\n",
       "    </tr>\n",
       "    <tr>\n",
       "      <th>3</th>\n",
       "      <td>Greg</td>\n",
       "      <td>5000</td>\n",
       "      <td>42</td>\n",
       "    </tr>\n",
       "  </tbody>\n",
       "</table>\n",
       "</div>"
      ],
      "text/plain": [
       "        0     1   2\n",
       "0    Mark  1000  23\n",
       "1    John  1500  25\n",
       "2  Daniel  2300  38\n",
       "3    Greg  5000  42"
      ]
     },
     "execution_count": 23,
     "metadata": {},
     "output_type": "execute_result"
    }
   ],
   "source": [
    "df.head()"
   ]
  },
  {
   "cell_type": "code",
   "execution_count": 24,
   "id": "f6d5f2fe-786f-440e-8767-3ce3337e372e",
   "metadata": {},
   "outputs": [
    {
     "data": {
      "text/html": [
       "<div>\n",
       "<style scoped>\n",
       "    .dataframe tbody tr th:only-of-type {\n",
       "        vertical-align: middle;\n",
       "    }\n",
       "\n",
       "    .dataframe tbody tr th {\n",
       "        vertical-align: top;\n",
       "    }\n",
       "\n",
       "    .dataframe thead th {\n",
       "        text-align: right;\n",
       "    }\n",
       "</style>\n",
       "<table border=\"1\" class=\"dataframe\">\n",
       "  <thead>\n",
       "    <tr style=\"text-align: right;\">\n",
       "      <th></th>\n",
       "      <th>salary</th>\n",
       "      <th>age</th>\n",
       "    </tr>\n",
       "    <tr>\n",
       "      <th>name</th>\n",
       "      <th></th>\n",
       "      <th></th>\n",
       "    </tr>\n",
       "  </thead>\n",
       "  <tbody>\n",
       "    <tr>\n",
       "      <th>Mark</th>\n",
       "      <td>1000</td>\n",
       "      <td>23</td>\n",
       "    </tr>\n",
       "    <tr>\n",
       "      <th>John</th>\n",
       "      <td>1500</td>\n",
       "      <td>25</td>\n",
       "    </tr>\n",
       "    <tr>\n",
       "      <th>Daniel</th>\n",
       "      <td>2300</td>\n",
       "      <td>38</td>\n",
       "    </tr>\n",
       "    <tr>\n",
       "      <th>Greg</th>\n",
       "      <td>5000</td>\n",
       "      <td>42</td>\n",
       "    </tr>\n",
       "  </tbody>\n",
       "</table>\n",
       "</div>"
      ],
      "text/plain": [
       "        salary  age\n",
       "name               \n",
       "Mark      1000   23\n",
       "John      1500   25\n",
       "Daniel    2300   38\n",
       "Greg      5000   42"
      ]
     },
     "execution_count": 24,
     "metadata": {},
     "output_type": "execute_result"
    }
   ],
   "source": [
    "df = pd.DataFrame(salaries, columns=[\"name\",\"salary\",\"age\"])\n",
    "df = df.set_index(\"name\")\n",
    "df"
   ]
  },
  {
   "cell_type": "code",
   "execution_count": 25,
   "id": "4f61e1a7-4736-47ce-afc3-91ad98a6fc69",
   "metadata": {},
   "outputs": [
    {
     "data": {
      "text/plain": [
       "salary    5000\n",
       "age         42\n",
       "dtype: int64"
      ]
     },
     "execution_count": 25,
     "metadata": {},
     "output_type": "execute_result"
    }
   ],
   "source": [
    "df.max()"
   ]
  },
  {
   "cell_type": "code",
   "execution_count": 26,
   "id": "306c3e8f-1552-4df5-86ae-f1dd18eca2de",
   "metadata": {},
   "outputs": [
    {
     "data": {
      "text/plain": [
       "salary    2450.0\n",
       "age         32.0\n",
       "dtype: float64"
      ]
     },
     "execution_count": 26,
     "metadata": {},
     "output_type": "execute_result"
    }
   ],
   "source": [
    "\n",
    "df.mean()"
   ]
  },
  {
   "cell_type": "code",
   "execution_count": 27,
   "id": "f1890c24-601e-4e73-9540-cf6572b6b194",
   "metadata": {},
   "outputs": [
    {
     "data": {
      "text/html": [
       "<div>\n",
       "<style scoped>\n",
       "    .dataframe tbody tr th:only-of-type {\n",
       "        vertical-align: middle;\n",
       "    }\n",
       "\n",
       "    .dataframe tbody tr th {\n",
       "        vertical-align: top;\n",
       "    }\n",
       "\n",
       "    .dataframe thead th {\n",
       "        text-align: right;\n",
       "    }\n",
       "</style>\n",
       "<table border=\"1\" class=\"dataframe\">\n",
       "  <thead>\n",
       "    <tr style=\"text-align: right;\">\n",
       "      <th></th>\n",
       "      <th>salary</th>\n",
       "      <th>age</th>\n",
       "    </tr>\n",
       "  </thead>\n",
       "  <tbody>\n",
       "    <tr>\n",
       "      <th>count</th>\n",
       "      <td>4.000000</td>\n",
       "      <td>4.000000</td>\n",
       "    </tr>\n",
       "    <tr>\n",
       "      <th>mean</th>\n",
       "      <td>2450.000000</td>\n",
       "      <td>32.000000</td>\n",
       "    </tr>\n",
       "    <tr>\n",
       "      <th>std</th>\n",
       "      <td>1782.320585</td>\n",
       "      <td>9.416298</td>\n",
       "    </tr>\n",
       "    <tr>\n",
       "      <th>min</th>\n",
       "      <td>1000.000000</td>\n",
       "      <td>23.000000</td>\n",
       "    </tr>\n",
       "    <tr>\n",
       "      <th>25%</th>\n",
       "      <td>1375.000000</td>\n",
       "      <td>24.500000</td>\n",
       "    </tr>\n",
       "    <tr>\n",
       "      <th>50%</th>\n",
       "      <td>1900.000000</td>\n",
       "      <td>31.500000</td>\n",
       "    </tr>\n",
       "    <tr>\n",
       "      <th>75%</th>\n",
       "      <td>2975.000000</td>\n",
       "      <td>39.000000</td>\n",
       "    </tr>\n",
       "    <tr>\n",
       "      <th>max</th>\n",
       "      <td>5000.000000</td>\n",
       "      <td>42.000000</td>\n",
       "    </tr>\n",
       "  </tbody>\n",
       "</table>\n",
       "</div>"
      ],
      "text/plain": [
       "            salary        age\n",
       "count     4.000000   4.000000\n",
       "mean   2450.000000  32.000000\n",
       "std    1782.320585   9.416298\n",
       "min    1000.000000  23.000000\n",
       "25%    1375.000000  24.500000\n",
       "50%    1900.000000  31.500000\n",
       "75%    2975.000000  39.000000\n",
       "max    5000.000000  42.000000"
      ]
     },
     "execution_count": 27,
     "metadata": {},
     "output_type": "execute_result"
    }
   ],
   "source": [
    "df.describe()"
   ]
  },
  {
   "cell_type": "code",
   "execution_count": 28,
   "id": "8de90096-05c1-4529-b375-fbefcb0978f7",
   "metadata": {},
   "outputs": [],
   "source": [
    "salary_increased_series = df[\"salary\"].apply(lambda salary: salary + 2000)\n",
    "df[\"salary\"] = salary_increased_series"
   ]
  },
  {
   "cell_type": "code",
   "execution_count": 29,
   "id": "6238abb8-26e9-4004-88ac-465021aca52a",
   "metadata": {},
   "outputs": [],
   "source": [
    "salaries = [\n",
    "\t(\"Mark\", 1000, 23),\n",
    "\t(\"John\", 1500, 25),\n",
    "\t(\"Daniel\", 2300, 38),\n",
    "\t(\"Greg\", 5000, 42)\n",
    "]"
   ]
  },
  {
   "cell_type": "code",
   "execution_count": 38,
   "id": "513f86ff-0a3a-44d9-8d21-85c9490d5343",
   "metadata": {},
   "outputs": [
    {
     "ename": "NameError",
     "evalue": "name 'init' is not defined",
     "output_type": "error",
     "traceback": [
      "\u001b[1;31m---------------------------------------------------------------------------\u001b[0m",
      "\u001b[1;31mNameError\u001b[0m                                 Traceback (most recent call last)",
      "Input \u001b[1;32mIn [38]\u001b[0m, in \u001b[0;36m<cell line: 3>\u001b[1;34m()\u001b[0m\n\u001b[0;32m      1\u001b[0m df \u001b[38;5;241m=\u001b[39m pd\u001b[38;5;241m.\u001b[39mDataFrame(salaries, columns\u001b[38;5;241m=\u001b[39m[\u001b[38;5;124m\"\u001b[39m\u001b[38;5;124mname\u001b[39m\u001b[38;5;124m\"\u001b[39m, \u001b[38;5;124m\"\u001b[39m\u001b[38;5;124msalary\u001b[39m\u001b[38;5;124m\"\u001b[39m, \u001b[38;5;124m\"\u001b[39m\u001b[38;5;124mage\u001b[39m\u001b[38;5;124m\"\u001b[39m])\n\u001b[0;32m      2\u001b[0m initials \u001b[38;5;241m=\u001b[39m df[\u001b[38;5;124m\"\u001b[39m\u001b[38;5;124mname\u001b[39m\u001b[38;5;124m\"\u001b[39m]\u001b[38;5;241m.\u001b[39mapply(\u001b[38;5;28;01mlambda\u001b[39;00m name: name[\u001b[38;5;241m0\u001b[39m])\n\u001b[1;32m----> 3\u001b[0m df[\u001b[38;5;124m\"\u001b[39m\u001b[38;5;124minitials\u001b[39m\u001b[38;5;124m\"\u001b[39m] \u001b[38;5;241m=\u001b[39m \u001b[43minit\u001b[49m\n\u001b[0;32m      4\u001b[0m df \u001b[38;5;241m=\u001b[39m df\u001b[38;5;241m.\u001b[39mset_index(\u001b[38;5;124m\"\u001b[39m\u001b[38;5;124mname\u001b[39m\u001b[38;5;124m\"\u001b[39m)\n\u001b[0;32m      5\u001b[0m df\n",
      "\u001b[1;31mNameError\u001b[0m: name 'init' is not defined"
     ]
    }
   ],
   "source": [
    "df = pd.DataFrame(salaries, columns=[\"name\", \"salary\", \"age\"])\n",
    "initials = df[\"name\"].apply(lambda name: name[0])\n",
    "df[\"initials\"] = init\n",
    "df = df.set_index(\"name\")\n",
    "df"
   ]
  },
  {
   "cell_type": "markdown",
   "id": "3fa98a1d-a34f-42b0-8380-345ca434ff29",
   "metadata": {},
   "source": [
    "import matplotlib.pyplot as plt\n",
    "plt.bar(df.index, df[\"salary\"])"
   ]
  },
  {
   "cell_type": "code",
   "execution_count": 37,
   "id": "8fcc4aca-f415-4cb9-844f-2372f277f0b7",
   "metadata": {},
   "outputs": [
    {
     "data": {
      "text/plain": [
       "<AxesSubplot:title={'center':'Workers age'}>"
      ]
     },
     "execution_count": 37,
     "metadata": {},
     "output_type": "execute_result"
    },
    {
     "data": {
      "image/png": "[encoded data removed]",
      "text/plain": [
       "<Figure size 432x288 with 1 Axes>"
      ]
     },
     "metadata": {
      "needs_background": "light"
     },
     "output_type": "display_data"
    }
   ],
   "source": [
    "df['age'].plot(kind='bar', title=\"Workers age\", color=\"NavajoWhite\")"
   ]
  },
  {
   "cell_type": "code",
   "execution_count": 33,
   "id": "f73ec7b6-2694-4bc2-aa81-728741d107ca",
   "metadata": {},
   "outputs": [
    {
     "name": "stdout",
     "output_type": "stream",
     "text": [
      "Suma n liczb wynosi:125250\n"
     ]
    }
   ],
   "source": [
    "def give_me_first_n_numbers(n):\n",
    "    for i in range(1,n+1):\n",
    "                yield i\n",
    "sum = 0\n",
    "for number in give_me_first_n_numbers(500):\n",
    "    sum = sum + number\n",
    "print(f\"Suma n liczb wynosi:{sum}\")"
   ]
  },
  {
   "cell_type": "code",
   "execution_count": null,
   "id": "dcf7b5c5-ed11-4a9e-8636-b6c467307e03",
   "metadata": {},
   "outputs": [],
   "source": []
  }
 ],
 "metadata": {
  "kernelspec": {
   "display_name": "Python 3 (ipykernel)",
   "language": "python",
   "name": "python3"
  },
  "language_info": {
   "codemirror_mode": {
    "name": "ipython",
    "version": 3
   },
   "file_extension": ".py",
   "mimetype": "text/x-python",
   "name": "python",
   "nbconvert_exporter": "python",
   "pygments_lexer": "ipython3",
   "version": "3.10.2"
  }
 },
 "nbformat": 4,
 "nbformat_minor": 5
}
