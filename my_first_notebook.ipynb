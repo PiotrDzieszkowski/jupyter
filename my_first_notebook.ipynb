{
 "cells": [
  {
   "cell_type": "markdown",
   "id": "f7cd9aac-ee97-457f-9f87-dd29fb156418",
   "metadata": {},
   "source": [
    "My first notebook\n",
    "This is my first notebook. This text is made with Markdown."
   ]
  },
  {
   "cell_type": "markdown",
   "id": "abed69d7-4dd8-4474-bde5-8c1b06d85206",
   "metadata": {},
   "source": [
    "# My first notebook\n",
    "This is my first notebook. This text is made with Markdown."
   ]
  },
  {
   "cell_type": "code",
   "execution_count": 2,
   "id": "78e1803e-bd34-4d42-b4a1-63141a34b5e4",
   "metadata": {},
   "outputs": [
    {
     "name": "stdout",
     "output_type": "stream",
     "text": [
      "This is another cell, this text was printed by Python\n"
     ]
    }
   ],
   "source": [
    "print(\"This is another cell, this text was printed by Python\")"
   ]
  },
  {
   "cell_type": "code",
   "execution_count": null,
   "id": "f3c454e7-618e-4eee-ba96-ca4c341d96ec",
   "metadata": {},
   "outputs": [],
   "source": []
  }
 ],
 "metadata": {
  "kernelspec": {
   "display_name": "Python 3 (ipykernel)",
   "language": "python",
   "name": "python3"
  },
  "language_info": {
   "codemirror_mode": {
    "name": "ipython",
    "version": 3
   },
   "file_extension": ".py",
   "mimetype": "text/x-python",
   "name": "python",
   "nbconvert_exporter": "python",
   "pygments_lexer": "ipython3",
   "version": "3.10.2"
  }
 },
 "nbformat": 4,
 "nbformat_minor": 5
}
