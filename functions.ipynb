{
 "cells": [
  {
   "cell_type": "markdown",
   "id": "1be17c98-5833-4535-8e18-2a82d61de394",
   "metadata": {},
   "source": [
    "# Funkcje w Python'ie\n",
    "Funkcje definiujemy za pomocą komendy def i nazwy naszej funkcji, po której wstawiawmy ewentualne parametry w nawiasach, a po znaku \":\" podajemy instrukcję opracji, którą nasza funkcja ma wywoływać. Następnie kończymy funkcję wskazując co ma zwracać, czyli wynik opisanej opracji.\n",
    "\n",
    "Przykład:\n",
    "\n"
   ]
  },
  {
   "cell_type": "code",
   "execution_count": 1,
   "id": "ea947da4-dcbf-469e-a312-4998325e53a3",
   "metadata": {},
   "outputs": [],
   "source": [
    "def dodawanie(x,y):\n",
    "    z = x + y\n",
    "    return z"
   ]
  },
  {
   "cell_type": "markdown",
   "id": "76c8fd20-1e57-4508-afff-814c9e42fdc8",
   "metadata": {},
   "source": [
    "# Wywoływanie funkcji\n",
    "Aby wywołać funckję trzeba wpisać jej nazwę, a w nawiasach podać parametry.\n",
    "\n",
    "Przykładowo:"
   ]
  },
  {
   "cell_type": "code",
   "execution_count": 2,
   "id": "c402b668-3288-4b16-b22a-df2ef4e59559",
   "metadata": {},
   "outputs": [
    {
     "data": {
      "text/plain": [
       "100"
      ]
     },
     "execution_count": 2,
     "metadata": {},
     "output_type": "execute_result"
    }
   ],
   "source": [
    "dodawanie(75,25)"
   ]
  },
  {
   "cell_type": "code",
   "execution_count": null,
   "id": "0ecaa8c2-68e4-4c1b-9295-084fe90c936c",
   "metadata": {},
   "outputs": [],
   "source": []
  }
 ],
 "metadata": {
  "kernelspec": {
   "display_name": "Python 3 (ipykernel)",
   "language": "python",
   "name": "python3"
  },
  "language_info": {
   "codemirror_mode": {
    "name": "ipython",
    "version": 3
   },
   "file_extension": ".py",
   "mimetype": "text/x-python",
   "name": "python",
   "nbconvert_exporter": "python",
   "pygments_lexer": "ipython3",
   "version": "3.10.2"
  }
 },
 "nbformat": 4,
 "nbformat_minor": 5
}
